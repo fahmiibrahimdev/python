{
 "cells": [
  {
   "cell_type": "code",
   "execution_count": 5,
   "id": "9662c2f3",
   "metadata": {},
   "outputs": [
    {
     "name": "stdout",
     "output_type": "stream",
     "text": [
      "Fahmi Ibrahim\n",
      "18\n",
      "Nama saya: Fahmi Ibrahim Umur saya: 18 Tahun\n"
     ]
    }
   ],
   "source": [
    "# Variabel adalah ‘penanda’ identitas yang digunakan untuk menampung suatu nilai. \n",
    "# Nilai tersebut dapat diubah sepanjang kode program.\n",
    "# Bisa diibaratkan bahwa variabel ini seperti lemari penyimpanan yang bisa diisi dengan berbagai data, dan isi lemari bisa ditukar jika diperlukan.\n",
    "\n",
    "# Contoh: namaVariabel = Value\n",
    "nama = \"Fahmi Ibrahim\"\n",
    "print(nama)\n",
    "\n",
    "umur = 18\n",
    "print(umur)\n",
    "\n",
    "print(\"Nama saya\", nama, \"Umur saya:\", umur, \"Tahun\")"
   ]
  }
 ],
 "metadata": {
  "kernelspec": {
   "display_name": "Python 3 (ipykernel)",
   "language": "python",
   "name": "python3"
  },
  "language_info": {
   "codemirror_mode": {
    "name": "ipython",
    "version": 3
   },
   "file_extension": ".py",
   "mimetype": "text/x-python",
   "name": "python",
   "nbconvert_exporter": "python",
   "pygments_lexer": "ipython3",
   "version": "3.8.10"
  }
 },
 "nbformat": 4,
 "nbformat_minor": 5
}
