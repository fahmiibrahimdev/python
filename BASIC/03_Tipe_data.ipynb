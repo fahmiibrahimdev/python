{
 "cells": [
  {
   "cell_type": "code",
   "execution_count": 5,
   "id": "a3ba9a73",
   "metadata": {},
   "outputs": [
    {
     "name": "stdout",
     "output_type": "stream",
     "text": [
      "Belajar tipe data\n",
      "1500\n",
      "3.14\n",
      "4j\n"
     ]
    }
   ],
   "source": [
    "# Tipe data\n",
    "# Tipe data adalah cara kita memberitahu komputer untuk mengelompokkan data berdasarkan apa yang dipahami oleh komputer\n",
    "# Ada 9 tipe data dasar:\n",
    "# String, Integer, Float, Complex Number, Boolean, List, Tuple, Set, Dictionary\n",
    "\n",
    "\n",
    "# 01. String\n",
    "string = \"Belajar tipe data\"\n",
    "print(string)\n",
    "\n",
    "# 02. Integer\n",
    "number = 1500\n",
    "print(number)\n",
    "\n",
    "# 03. Float\n",
    "float = 3.14\n",
    "print(float)\n",
    "\n",
    "# 04. Complex Number\n",
    "complex_number = 4j\n",
    "print(complex_number)\n",
    "\n",
    "# 05. Boolean\n",
    "boolean = True\n",
    "print(boolean)\n",
    "\n",
    "# 06. Data List\n",
    "list = [\"satu\", \"dua\", \"tiga\", \"empat\", \"lima\"]\n",
    "print(list)\n",
    "\n",
    "# 07. Data Tuple\n",
    "tuple = (\"satu\", \"dua\", \"tiga\", \"empat\", \"lima\")\n",
    "print(tuple)\n",
    "\n",
    "# 08. Data Set\n",
    "set = {\"satu\", \"dua\", \"tiga\", \"empat\", \"lima\"}\n",
    "print(set)\n",
    "\n",
    "# 09. Data Dictionary\n",
    "dictionar"
   ]
  }
 ],
 "metadata": {
  "kernelspec": {
   "display_name": "Python 3 (ipykernel)",
   "language": "python",
   "name": "python3"
  },
  "language_info": {
   "codemirror_mode": {
    "name": "ipython",
    "version": 3
   },
   "file_extension": ".py",
   "mimetype": "text/x-python",
   "name": "python",
   "nbconvert_exporter": "python",
   "pygments_lexer": "ipython3",
   "version": "3.8.10"
  }
 },
 "nbformat": 4,
 "nbformat_minor": 5
}
